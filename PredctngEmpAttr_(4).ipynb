{
  "cells": [
    {
      "cell_type": "code",
      "execution_count": null,
      "id": "c1d215e4-706d-4a11-a125-5fc79fd9489b",
      "metadata": {
        "id": "c1d215e4-706d-4a11-a125-5fc79fd9489b"
      },
      "outputs": [],
      "source": [
        "import pandas as pd\n",
        "from sklearn.metrics import confusion_matrix, accuracy_score,f1_score,roc_curve,auc\n",
        "from sklearn.model_selection import GridSearchCV\n",
        "import numpy as np\n",
        "from sklearn import metrics\n",
        "import matplotlib.pyplot as plt"
      ]
    },
    {
      "cell_type": "code",
      "execution_count": null,
      "id": "862d8bba-20e2-48ae-894d-da89cae298fe",
      "metadata": {
        "id": "862d8bba-20e2-48ae-894d-da89cae298fe"
      },
      "outputs": [],
      "source": [
        "import warnings\n",
        "warnings.filterwarnings(\"ignore\")"
      ]
    },
    {
      "cell_type": "code",
      "execution_count": null,
      "id": "39cff792-11e3-4583-a1aa-a86a99e6579c",
      "metadata": {
        "id": "39cff792-11e3-4583-a1aa-a86a99e6579c"
      },
      "outputs": [],
      "source": [
        "data = pd.read_csv('C:\\\\Users\\\\shana\\\\OneDrive\\\\Desktop\\\\DMT\\\\employee.csv')"
      ]
    },
    {
      "cell_type": "code",
      "execution_count": null,
      "id": "47c96e77-4f32-48a2-81de-eba77a5d70be",
      "metadata": {
        "id": "47c96e77-4f32-48a2-81de-eba77a5d70be",
        "outputId": "6364263f-c790-480e-eeb8-649ba56b225b"
      },
      "outputs": [
        {
          "data": {
            "text/html": [
              "<div>\n",
              "<style scoped>\n",
              "    .dataframe tbody tr th:only-of-type {\n",
              "        vertical-align: middle;\n",
              "    }\n",
              "\n",
              "    .dataframe tbody tr th {\n",
              "        vertical-align: top;\n",
              "    }\n",
              "\n",
              "    .dataframe thead th {\n",
              "        text-align: right;\n",
              "    }\n",
              "</style>\n",
              "<table border=\"1\" class=\"dataframe\">\n",
              "  <thead>\n",
              "    <tr style=\"text-align: right;\">\n",
              "      <th></th>\n",
              "      <th>EmpID</th>\n",
              "      <th>Age</th>\n",
              "      <th>AgeGroup</th>\n",
              "      <th>Attrition</th>\n",
              "      <th>BusinessTravel</th>\n",
              "      <th>DailyRate</th>\n",
              "      <th>Department</th>\n",
              "      <th>DistanceFromHome</th>\n",
              "      <th>Education</th>\n",
              "      <th>EducationField</th>\n",
              "      <th>...</th>\n",
              "      <th>RelationshipSatisfaction</th>\n",
              "      <th>StandardHours</th>\n",
              "      <th>StockOptionLevel</th>\n",
              "      <th>TotalWorkingYears</th>\n",
              "      <th>TrainingTimesLastYear</th>\n",
              "      <th>WorkLifeBalance</th>\n",
              "      <th>YearsAtCompany</th>\n",
              "      <th>YearsInCurrentRole</th>\n",
              "      <th>YearsSinceLastPromotion</th>\n",
              "      <th>YearsWithCurrManager</th>\n",
              "    </tr>\n",
              "  </thead>\n",
              "  <tbody>\n",
              "    <tr>\n",
              "      <th>0</th>\n",
              "      <td>RM297</td>\n",
              "      <td>18</td>\n",
              "      <td>18-25</td>\n",
              "      <td>1</td>\n",
              "      <td>Travel_Rarely</td>\n",
              "      <td>230</td>\n",
              "      <td>Research &amp; Development</td>\n",
              "      <td>3</td>\n",
              "      <td>3</td>\n",
              "      <td>Life Sciences</td>\n",
              "      <td>...</td>\n",
              "      <td>3</td>\n",
              "      <td>80</td>\n",
              "      <td>0</td>\n",
              "      <td>0</td>\n",
              "      <td>2</td>\n",
              "      <td>3</td>\n",
              "      <td>0</td>\n",
              "      <td>0</td>\n",
              "      <td>0</td>\n",
              "      <td>0.0</td>\n",
              "    </tr>\n",
              "    <tr>\n",
              "      <th>1</th>\n",
              "      <td>RM302</td>\n",
              "      <td>18</td>\n",
              "      <td>18-25</td>\n",
              "      <td>0</td>\n",
              "      <td>Travel_Rarely</td>\n",
              "      <td>812</td>\n",
              "      <td>Sales</td>\n",
              "      <td>10</td>\n",
              "      <td>3</td>\n",
              "      <td>Medical</td>\n",
              "      <td>...</td>\n",
              "      <td>1</td>\n",
              "      <td>80</td>\n",
              "      <td>0</td>\n",
              "      <td>0</td>\n",
              "      <td>2</td>\n",
              "      <td>3</td>\n",
              "      <td>0</td>\n",
              "      <td>0</td>\n",
              "      <td>0</td>\n",
              "      <td>0.0</td>\n",
              "    </tr>\n",
              "    <tr>\n",
              "      <th>2</th>\n",
              "      <td>RM458</td>\n",
              "      <td>18</td>\n",
              "      <td>18-25</td>\n",
              "      <td>1</td>\n",
              "      <td>Travel_Frequently</td>\n",
              "      <td>1306</td>\n",
              "      <td>Sales</td>\n",
              "      <td>5</td>\n",
              "      <td>3</td>\n",
              "      <td>Marketing</td>\n",
              "      <td>...</td>\n",
              "      <td>4</td>\n",
              "      <td>80</td>\n",
              "      <td>0</td>\n",
              "      <td>0</td>\n",
              "      <td>3</td>\n",
              "      <td>3</td>\n",
              "      <td>0</td>\n",
              "      <td>0</td>\n",
              "      <td>0</td>\n",
              "      <td>0.0</td>\n",
              "    </tr>\n",
              "    <tr>\n",
              "      <th>3</th>\n",
              "      <td>RM728</td>\n",
              "      <td>18</td>\n",
              "      <td>18-25</td>\n",
              "      <td>0</td>\n",
              "      <td>Non-Travel</td>\n",
              "      <td>287</td>\n",
              "      <td>Research &amp; Development</td>\n",
              "      <td>5</td>\n",
              "      <td>2</td>\n",
              "      <td>Life Sciences</td>\n",
              "      <td>...</td>\n",
              "      <td>4</td>\n",
              "      <td>80</td>\n",
              "      <td>0</td>\n",
              "      <td>0</td>\n",
              "      <td>2</td>\n",
              "      <td>3</td>\n",
              "      <td>0</td>\n",
              "      <td>0</td>\n",
              "      <td>0</td>\n",
              "      <td>0.0</td>\n",
              "    </tr>\n",
              "    <tr>\n",
              "      <th>4</th>\n",
              "      <td>RM829</td>\n",
              "      <td>18</td>\n",
              "      <td>18-25</td>\n",
              "      <td>1</td>\n",
              "      <td>Non-Travel</td>\n",
              "      <td>247</td>\n",
              "      <td>Research &amp; Development</td>\n",
              "      <td>8</td>\n",
              "      <td>1</td>\n",
              "      <td>Medical</td>\n",
              "      <td>...</td>\n",
              "      <td>4</td>\n",
              "      <td>80</td>\n",
              "      <td>0</td>\n",
              "      <td>0</td>\n",
              "      <td>0</td>\n",
              "      <td>3</td>\n",
              "      <td>0</td>\n",
              "      <td>0</td>\n",
              "      <td>0</td>\n",
              "      <td>0.0</td>\n",
              "    </tr>\n",
              "  </tbody>\n",
              "</table>\n",
              "<p>5 rows × 38 columns</p>\n",
              "</div>"
            ],
            "text/plain": [
              "   EmpID  Age AgeGroup  Attrition     BusinessTravel  DailyRate  \\\n",
              "0  RM297   18    18-25          1      Travel_Rarely        230   \n",
              "1  RM302   18    18-25          0      Travel_Rarely        812   \n",
              "2  RM458   18    18-25          1  Travel_Frequently       1306   \n",
              "3  RM728   18    18-25          0         Non-Travel        287   \n",
              "4  RM829   18    18-25          1         Non-Travel        247   \n",
              "\n",
              "               Department  DistanceFromHome  Education EducationField  ...  \\\n",
              "0  Research & Development                 3          3  Life Sciences  ...   \n",
              "1                   Sales                10          3        Medical  ...   \n",
              "2                   Sales                 5          3      Marketing  ...   \n",
              "3  Research & Development                 5          2  Life Sciences  ...   \n",
              "4  Research & Development                 8          1        Medical  ...   \n",
              "\n",
              "   RelationshipSatisfaction  StandardHours  StockOptionLevel  \\\n",
              "0                         3             80                 0   \n",
              "1                         1             80                 0   \n",
              "2                         4             80                 0   \n",
              "3                         4             80                 0   \n",
              "4                         4             80                 0   \n",
              "\n",
              "  TotalWorkingYears  TrainingTimesLastYear  WorkLifeBalance  YearsAtCompany  \\\n",
              "0                 0                      2                3               0   \n",
              "1                 0                      2                3               0   \n",
              "2                 0                      3                3               0   \n",
              "3                 0                      2                3               0   \n",
              "4                 0                      0                3               0   \n",
              "\n",
              "  YearsInCurrentRole  YearsSinceLastPromotion YearsWithCurrManager  \n",
              "0                  0                        0                  0.0  \n",
              "1                  0                        0                  0.0  \n",
              "2                  0                        0                  0.0  \n",
              "3                  0                        0                  0.0  \n",
              "4                  0                        0                  0.0  \n",
              "\n",
              "[5 rows x 38 columns]"
            ]
          },
          "execution_count": 4,
          "metadata": {},
          "output_type": "execute_result"
        }
      ],
      "source": [
        "data.head()"
      ]
    },
    {
      "cell_type": "code",
      "execution_count": null,
      "id": "327ac9ad-af46-4eac-a764-6623efc7612c",
      "metadata": {
        "id": "327ac9ad-af46-4eac-a764-6623efc7612c",
        "outputId": "3eaed995-29ec-4ade-a75a-71e90295cd76"
      },
      "outputs": [
        {
          "data": {
            "text/plain": [
              "(1480, 38)"
            ]
          },
          "execution_count": 5,
          "metadata": {},
          "output_type": "execute_result"
        }
      ],
      "source": [
        "data.shape"
      ]
    },
    {
      "cell_type": "code",
      "execution_count": null,
      "id": "cd5a2e61-692e-496f-a143-91864567f9dd",
      "metadata": {
        "id": "cd5a2e61-692e-496f-a143-91864567f9dd",
        "outputId": "c27ffee2-be20-405f-af95-3731e72170d3"
      },
      "outputs": [
        {
          "data": {
            "text/plain": [
              "EducationField\n",
              "Life Sciences       607\n",
              "Medical             470\n",
              "Marketing           161\n",
              "Technical Degree    132\n",
              "Other                83\n",
              "Human Resources      27\n",
              "Name: count, dtype: int64"
            ]
          },
          "execution_count": 6,
          "metadata": {},
          "output_type": "execute_result"
        }
      ],
      "source": [
        "data.EducationField.value_counts()"
      ]
    },
    {
      "cell_type": "code",
      "execution_count": null,
      "id": "c18856bd-626a-46b7-9b90-2ba03a13ac79",
      "metadata": {
        "id": "c18856bd-626a-46b7-9b90-2ba03a13ac79",
        "outputId": "d6cae5a8-41e6-4c5d-87d5-5f78eaef067c"
      },
      "outputs": [
        {
          "data": {
            "text/plain": [
              "BusinessTravel\n",
              "Travel_Rarely        1042\n",
              "Travel_Frequently     279\n",
              "Non-Travel            151\n",
              "TravelRarely            8\n",
              "Name: count, dtype: int64"
            ]
          },
          "execution_count": 7,
          "metadata": {},
          "output_type": "execute_result"
        }
      ],
      "source": [
        "data.BusinessTravel.value_counts()"
      ]
    },
    {
      "cell_type": "code",
      "execution_count": null,
      "id": "5f6b9d9f-4c5c-4c48-882c-4965e2f95da5",
      "metadata": {
        "id": "5f6b9d9f-4c5c-4c48-882c-4965e2f95da5",
        "outputId": "882be53f-a0e5-4e0e-863c-1a105f562b0d"
      },
      "outputs": [
        {
          "data": {
            "text/plain": [
              "Department\n",
              "Research & Development    967\n",
              "Sales                     450\n",
              "Human Resources            63\n",
              "Name: count, dtype: int64"
            ]
          },
          "execution_count": 8,
          "metadata": {},
          "output_type": "execute_result"
        }
      ],
      "source": [
        "data.Department.value_counts()"
      ]
    },
    {
      "cell_type": "code",
      "execution_count": null,
      "id": "9af5e990-0ce5-404a-9fd8-a542b255a31e",
      "metadata": {
        "id": "9af5e990-0ce5-404a-9fd8-a542b255a31e",
        "outputId": "b17a46c9-fb15-4cf7-cf70-81be57aad955"
      },
      "outputs": [
        {
          "data": {
            "text/plain": [
              "Attrition\n",
              "0    0.839189\n",
              "1    0.160811\n",
              "Name: proportion, dtype: float64"
            ]
          },
          "execution_count": 9,
          "metadata": {},
          "output_type": "execute_result"
        }
      ],
      "source": [
        "#0(No) : employee does not quit\n",
        "#1(Yes) : employee quits the organisation\n",
        "data.Attrition.value_counts(normalize=True)"
      ]
    },
    {
      "cell_type": "code",
      "execution_count": null,
      "id": "e6bcee4e-29f0-4b3c-aa1c-ddda444571c7",
      "metadata": {
        "id": "e6bcee4e-29f0-4b3c-aa1c-ddda444571c7"
      },
      "outputs": [],
      "source": [
        "x = data. drop([\"Attrition\"],axis=1)\n",
        "y = data[\"Attrition\"]"
      ]
    },
    {
      "cell_type": "code",
      "execution_count": null,
      "id": "3ddcd2d7-5f0c-4d40-88f4-c8fe74de69e6",
      "metadata": {
        "id": "3ddcd2d7-5f0c-4d40-88f4-c8fe74de69e6",
        "outputId": "c290e63e-9d9d-43ae-aff7-3db482652648"
      },
      "outputs": [
        {
          "data": {
            "text/plain": [
              "<bound method NDFrame.head of       Age  DailyRate  DistanceFromHome  Education  EmployeeCount  \\\n",
              "0      18        230                 3          3              1   \n",
              "1      18        812                10          3              1   \n",
              "2      18       1306                 5          3              1   \n",
              "3      18        287                 5          2              1   \n",
              "4      18        247                 8          1              1   \n",
              "...   ...        ...               ...        ...            ...   \n",
              "1475   60        422                 7          3              1   \n",
              "1476   60       1499                28          3              1   \n",
              "1477   60       1179                16          4              1   \n",
              "1478   60        696                 7          4              1   \n",
              "1479   60        370                 1          4              1   \n",
              "\n",
              "      EmployeeNumber  EnvironmentSatisfaction  HourlyRate  JobInvolvement  \\\n",
              "0                405                        3          54               3   \n",
              "1                411                        4          69               2   \n",
              "2                614                        2          69               3   \n",
              "3               1012                        2          73               3   \n",
              "4               1156                        3          80               3   \n",
              "...              ...                      ...         ...             ...   \n",
              "1475             549                        1          41               3   \n",
              "1476             573                        3          80               2   \n",
              "1477             732                        1          84               3   \n",
              "1478            1233                        2          52               4   \n",
              "1479            1697                        3          92               1   \n",
              "\n",
              "      JobLevel  ...  MaritalStatus_Divorced  MaritalStatus_Married  \\\n",
              "0            1  ...                   False                  False   \n",
              "1            1  ...                   False                  False   \n",
              "2            1  ...                   False                  False   \n",
              "3            1  ...                   False                  False   \n",
              "4            1  ...                   False                  False   \n",
              "...        ...  ...                     ...                    ...   \n",
              "1475         5  ...                   False                   True   \n",
              "1476         3  ...                   False                   True   \n",
              "1477         2  ...                   False                  False   \n",
              "1478         2  ...                    True                  False   \n",
              "1479         3  ...                    True                  False   \n",
              "\n",
              "      MaritalStatus_Single  SalarySlab_10k-15k  SalarySlab_15k+  \\\n",
              "0                     True               False            False   \n",
              "1                     True               False            False   \n",
              "2                     True               False            False   \n",
              "3                     True               False            False   \n",
              "4                     True               False            False   \n",
              "...                    ...                 ...              ...   \n",
              "1475                 False               False             True   \n",
              "1476                 False                True            False   \n",
              "1477                  True               False            False   \n",
              "1478                 False               False            False   \n",
              "1479                 False                True            False   \n",
              "\n",
              "      SalarySlab_5k-10k  SalarySlab_Upto 5k  Over18_Y  OverTime_No  \\\n",
              "0                 False                True      True         True   \n",
              "1                 False                True      True         True   \n",
              "2                 False                True      True        False   \n",
              "3                 False                True      True         True   \n",
              "4                 False                True      True         True   \n",
              "...                 ...                 ...       ...          ...   \n",
              "1475              False               False      True         True   \n",
              "1476              False               False      True         True   \n",
              "1477               True               False      True         True   \n",
              "1478               True               False      True        False   \n",
              "1479              False               False      True         True   \n",
              "\n",
              "      OverTime_Yes  \n",
              "0            False  \n",
              "1            False  \n",
              "2             True  \n",
              "3            False  \n",
              "4            False  \n",
              "...            ...  \n",
              "1475         False  \n",
              "1476         False  \n",
              "1477         False  \n",
              "1478          True  \n",
              "1479         False  \n",
              "\n",
              "[1480 rows x 1535 columns]>"
            ]
          },
          "execution_count": 11,
          "metadata": {},
          "output_type": "execute_result"
        }
      ],
      "source": [
        "#Encoding\n",
        "x_dummies = pd.get_dummies(x)\n",
        "x_dummies.head"
      ]
    },
    {
      "cell_type": "code",
      "execution_count": null,
      "id": "3ba2d596-f01b-4bdb-932a-3da018023a3c",
      "metadata": {
        "id": "3ba2d596-f01b-4bdb-932a-3da018023a3c"
      },
      "outputs": [],
      "source": [
        "from sklearn.model_selection import train_test_split\n",
        "\n",
        "x_train, x_test,y_train,y_test = train_test_split(x_dummies,y,\n",
        "                                                  test_size=0.3,random_state=80, stratify=y)"
      ]
    },
    {
      "cell_type": "code",
      "execution_count": null,
      "id": "8510f833-1a46-42c1-9019-b802ae1f50a5",
      "metadata": {
        "id": "8510f833-1a46-42c1-9019-b802ae1f50a5",
        "outputId": "0effda81-5b44-4ffb-9f8b-a5b980a9a40d"
      },
      "outputs": [
        {
          "data": {
            "text/plain": [
              "Attrition\n",
              "0    0.838803\n",
              "1    0.161197\n",
              "Name: proportion, dtype: float64"
            ]
          },
          "execution_count": 13,
          "metadata": {},
          "output_type": "execute_result"
        }
      ],
      "source": [
        "y_train.value_counts(normalize=True)"
      ]
    },
    {
      "cell_type": "code",
      "execution_count": null,
      "id": "8a3cfb15-8dbc-4cf5-b6a3-f863950d4368",
      "metadata": {
        "id": "8a3cfb15-8dbc-4cf5-b6a3-f863950d4368",
        "outputId": "1f9e4985-7c2a-4f46-93aa-1b19f24f3b00"
      },
      "outputs": [
        {
          "data": {
            "text/plain": [
              "Attrition\n",
              "0    0.84009\n",
              "1    0.15991\n",
              "Name: proportion, dtype: float64"
            ]
          },
          "execution_count": 14,
          "metadata": {},
          "output_type": "execute_result"
        }
      ],
      "source": [
        "y_test.value_counts(normalize=True)"
      ]
    },
    {
      "cell_type": "code",
      "execution_count": null,
      "id": "11ba1dc8-492b-4b93-8b83-e965521c1458",
      "metadata": {
        "id": "11ba1dc8-492b-4b93-8b83-e965521c1458"
      },
      "outputs": [],
      "source": [
        "from sklearn.tree import DecisionTreeClassifier"
      ]
    },
    {
      "cell_type": "code",
      "execution_count": null,
      "id": "2eca1233-c8b0-4122-a45b-0b18248e4e55",
      "metadata": {
        "id": "2eca1233-c8b0-4122-a45b-0b18248e4e55",
        "outputId": "ee821ca7-4392-470d-9259-958ad0a2c8f2"
      },
      "outputs": [
        {
          "data": {
            "text/html": [
              "<style>#sk-container-id-1 {\n",
              "  /* Definition of color scheme common for light and dark mode */\n",
              "  --sklearn-color-text: black;\n",
              "  --sklearn-color-line: gray;\n",
              "  /* Definition of color scheme for unfitted estimators */\n",
              "  --sklearn-color-unfitted-level-0: #fff5e6;\n",
              "  --sklearn-color-unfitted-level-1: #f6e4d2;\n",
              "  --sklearn-color-unfitted-level-2: #ffe0b3;\n",
              "  --sklearn-color-unfitted-level-3: chocolate;\n",
              "  /* Definition of color scheme for fitted estimators */\n",
              "  --sklearn-color-fitted-level-0: #f0f8ff;\n",
              "  --sklearn-color-fitted-level-1: #d4ebff;\n",
              "  --sklearn-color-fitted-level-2: #b3dbfd;\n",
              "  --sklearn-color-fitted-level-3: cornflowerblue;\n",
              "\n",
              "  /* Specific color for light theme */\n",
              "  --sklearn-color-text-on-default-background: var(--sg-text-color, var(--theme-code-foreground, var(--jp-content-font-color1, black)));\n",
              "  --sklearn-color-background: var(--sg-background-color, var(--theme-background, var(--jp-layout-color0, white)));\n",
              "  --sklearn-color-border-box: var(--sg-text-color, var(--theme-code-foreground, var(--jp-content-font-color1, black)));\n",
              "  --sklearn-color-icon: #696969;\n",
              "\n",
              "  @media (prefers-color-scheme: dark) {\n",
              "    /* Redefinition of color scheme for dark theme */\n",
              "    --sklearn-color-text-on-default-background: var(--sg-text-color, var(--theme-code-foreground, var(--jp-content-font-color1, white)));\n",
              "    --sklearn-color-background: var(--sg-background-color, var(--theme-background, var(--jp-layout-color0, #111)));\n",
              "    --sklearn-color-border-box: var(--sg-text-color, var(--theme-code-foreground, var(--jp-content-font-color1, white)));\n",
              "    --sklearn-color-icon: #878787;\n",
              "  }\n",
              "}\n",
              "\n",
              "#sk-container-id-1 {\n",
              "  color: var(--sklearn-color-text);\n",
              "}\n",
              "\n",
              "#sk-container-id-1 pre {\n",
              "  padding: 0;\n",
              "}\n",
              "\n",
              "#sk-container-id-1 input.sk-hidden--visually {\n",
              "  border: 0;\n",
              "  clip: rect(1px 1px 1px 1px);\n",
              "  clip: rect(1px, 1px, 1px, 1px);\n",
              "  height: 1px;\n",
              "  margin: -1px;\n",
              "  overflow: hidden;\n",
              "  padding: 0;\n",
              "  position: absolute;\n",
              "  width: 1px;\n",
              "}\n",
              "\n",
              "#sk-container-id-1 div.sk-dashed-wrapped {\n",
              "  border: 1px dashed var(--sklearn-color-line);\n",
              "  margin: 0 0.4em 0.5em 0.4em;\n",
              "  box-sizing: border-box;\n",
              "  padding-bottom: 0.4em;\n",
              "  background-color: var(--sklearn-color-background);\n",
              "}\n",
              "\n",
              "#sk-container-id-1 div.sk-container {\n",
              "  /* jupyter's `normalize.less` sets `[hidden] { display: none; }`\n",
              "     but bootstrap.min.css set `[hidden] { display: none !important; }`\n",
              "     so we also need the `!important` here to be able to override the\n",
              "     default hidden behavior on the sphinx rendered scikit-learn.org.\n",
              "     See: https://github.com/scikit-learn/scikit-learn/issues/21755 */\n",
              "  display: inline-block !important;\n",
              "  position: relative;\n",
              "}\n",
              "\n",
              "#sk-container-id-1 div.sk-text-repr-fallback {\n",
              "  display: none;\n",
              "}\n",
              "\n",
              "div.sk-parallel-item,\n",
              "div.sk-serial,\n",
              "div.sk-item {\n",
              "  /* draw centered vertical line to link estimators */\n",
              "  background-image: linear-gradient(var(--sklearn-color-text-on-default-background), var(--sklearn-color-text-on-default-background));\n",
              "  background-size: 2px 100%;\n",
              "  background-repeat: no-repeat;\n",
              "  background-position: center center;\n",
              "}\n",
              "\n",
              "/* Parallel-specific style estimator block */\n",
              "\n",
              "#sk-container-id-1 div.sk-parallel-item::after {\n",
              "  content: \"\";\n",
              "  width: 100%;\n",
              "  border-bottom: 2px solid var(--sklearn-color-text-on-default-background);\n",
              "  flex-grow: 1;\n",
              "}\n",
              "\n",
              "#sk-container-id-1 div.sk-parallel {\n",
              "  display: flex;\n",
              "  align-items: stretch;\n",
              "  justify-content: center;\n",
              "  background-color: var(--sklearn-color-background);\n",
              "  position: relative;\n",
              "}\n",
              "\n",
              "#sk-container-id-1 div.sk-parallel-item {\n",
              "  display: flex;\n",
              "  flex-direction: column;\n",
              "}\n",
              "\n",
              "#sk-container-id-1 div.sk-parallel-item:first-child::after {\n",
              "  align-self: flex-end;\n",
              "  width: 50%;\n",
              "}\n",
              "\n",
              "#sk-container-id-1 div.sk-parallel-item:last-child::after {\n",
              "  align-self: flex-start;\n",
              "  width: 50%;\n",
              "}\n",
              "\n",
              "#sk-container-id-1 div.sk-parallel-item:only-child::after {\n",
              "  width: 0;\n",
              "}\n",
              "\n",
              "/* Serial-specific style estimator block */\n",
              "\n",
              "#sk-container-id-1 div.sk-serial {\n",
              "  display: flex;\n",
              "  flex-direction: column;\n",
              "  align-items: center;\n",
              "  background-color: var(--sklearn-color-background);\n",
              "  padding-right: 1em;\n",
              "  padding-left: 1em;\n",
              "}\n",
              "\n",
              "\n",
              "/* Toggleable style: style used for estimator/Pipeline/ColumnTransformer box that is\n",
              "clickable and can be expanded/collapsed.\n",
              "- Pipeline and ColumnTransformer use this feature and define the default style\n",
              "- Estimators will overwrite some part of the style using the `sk-estimator` class\n",
              "*/\n",
              "\n",
              "/* Pipeline and ColumnTransformer style (default) */\n",
              "\n",
              "#sk-container-id-1 div.sk-toggleable {\n",
              "  /* Default theme specific background. It is overwritten whether we have a\n",
              "  specific estimator or a Pipeline/ColumnTransformer */\n",
              "  background-color: var(--sklearn-color-background);\n",
              "}\n",
              "\n",
              "/* Toggleable label */\n",
              "#sk-container-id-1 label.sk-toggleable__label {\n",
              "  cursor: pointer;\n",
              "  display: block;\n",
              "  width: 100%;\n",
              "  margin-bottom: 0;\n",
              "  padding: 0.5em;\n",
              "  box-sizing: border-box;\n",
              "  text-align: center;\n",
              "}\n",
              "\n",
              "#sk-container-id-1 label.sk-toggleable__label-arrow:before {\n",
              "  /* Arrow on the left of the label */\n",
              "  content: \"▸\";\n",
              "  float: left;\n",
              "  margin-right: 0.25em;\n",
              "  color: var(--sklearn-color-icon);\n",
              "}\n",
              "\n",
              "#sk-container-id-1 label.sk-toggleable__label-arrow:hover:before {\n",
              "  color: var(--sklearn-color-text);\n",
              "}\n",
              "\n",
              "/* Toggleable content - dropdown */\n",
              "\n",
              "#sk-container-id-1 div.sk-toggleable__content {\n",
              "  max-height: 0;\n",
              "  max-width: 0;\n",
              "  overflow: hidden;\n",
              "  text-align: left;\n",
              "  /* unfitted */\n",
              "  background-color: var(--sklearn-color-unfitted-level-0);\n",
              "}\n",
              "\n",
              "#sk-container-id-1 div.sk-toggleable__content.fitted {\n",
              "  /* fitted */\n",
              "  background-color: var(--sklearn-color-fitted-level-0);\n",
              "}\n",
              "\n",
              "#sk-container-id-1 div.sk-toggleable__content pre {\n",
              "  margin: 0.2em;\n",
              "  border-radius: 0.25em;\n",
              "  color: var(--sklearn-color-text);\n",
              "  /* unfitted */\n",
              "  background-color: var(--sklearn-color-unfitted-level-0);\n",
              "}\n",
              "\n",
              "#sk-container-id-1 div.sk-toggleable__content.fitted pre {\n",
              "  /* unfitted */\n",
              "  background-color: var(--sklearn-color-fitted-level-0);\n",
              "}\n",
              "\n",
              "#sk-container-id-1 input.sk-toggleable__control:checked~div.sk-toggleable__content {\n",
              "  /* Expand drop-down */\n",
              "  max-height: 200px;\n",
              "  max-width: 100%;\n",
              "  overflow: auto;\n",
              "}\n",
              "\n",
              "#sk-container-id-1 input.sk-toggleable__control:checked~label.sk-toggleable__label-arrow:before {\n",
              "  content: \"▾\";\n",
              "}\n",
              "\n",
              "/* Pipeline/ColumnTransformer-specific style */\n",
              "\n",
              "#sk-container-id-1 div.sk-label input.sk-toggleable__control:checked~label.sk-toggleable__label {\n",
              "  color: var(--sklearn-color-text);\n",
              "  background-color: var(--sklearn-color-unfitted-level-2);\n",
              "}\n",
              "\n",
              "#sk-container-id-1 div.sk-label.fitted input.sk-toggleable__control:checked~label.sk-toggleable__label {\n",
              "  background-color: var(--sklearn-color-fitted-level-2);\n",
              "}\n",
              "\n",
              "/* Estimator-specific style */\n",
              "\n",
              "/* Colorize estimator box */\n",
              "#sk-container-id-1 div.sk-estimator input.sk-toggleable__control:checked~label.sk-toggleable__label {\n",
              "  /* unfitted */\n",
              "  background-color: var(--sklearn-color-unfitted-level-2);\n",
              "}\n",
              "\n",
              "#sk-container-id-1 div.sk-estimator.fitted input.sk-toggleable__control:checked~label.sk-toggleable__label {\n",
              "  /* fitted */\n",
              "  background-color: var(--sklearn-color-fitted-level-2);\n",
              "}\n",
              "\n",
              "#sk-container-id-1 div.sk-label label.sk-toggleable__label,\n",
              "#sk-container-id-1 div.sk-label label {\n",
              "  /* The background is the default theme color */\n",
              "  color: var(--sklearn-color-text-on-default-background);\n",
              "}\n",
              "\n",
              "/* On hover, darken the color of the background */\n",
              "#sk-container-id-1 div.sk-label:hover label.sk-toggleable__label {\n",
              "  color: var(--sklearn-color-text);\n",
              "  background-color: var(--sklearn-color-unfitted-level-2);\n",
              "}\n",
              "\n",
              "/* Label box, darken color on hover, fitted */\n",
              "#sk-container-id-1 div.sk-label.fitted:hover label.sk-toggleable__label.fitted {\n",
              "  color: var(--sklearn-color-text);\n",
              "  background-color: var(--sklearn-color-fitted-level-2);\n",
              "}\n",
              "\n",
              "/* Estimator label */\n",
              "\n",
              "#sk-container-id-1 div.sk-label label {\n",
              "  font-family: monospace;\n",
              "  font-weight: bold;\n",
              "  display: inline-block;\n",
              "  line-height: 1.2em;\n",
              "}\n",
              "\n",
              "#sk-container-id-1 div.sk-label-container {\n",
              "  text-align: center;\n",
              "}\n",
              "\n",
              "/* Estimator-specific */\n",
              "#sk-container-id-1 div.sk-estimator {\n",
              "  font-family: monospace;\n",
              "  border: 1px dotted var(--sklearn-color-border-box);\n",
              "  border-radius: 0.25em;\n",
              "  box-sizing: border-box;\n",
              "  margin-bottom: 0.5em;\n",
              "  /* unfitted */\n",
              "  background-color: var(--sklearn-color-unfitted-level-0);\n",
              "}\n",
              "\n",
              "#sk-container-id-1 div.sk-estimator.fitted {\n",
              "  /* fitted */\n",
              "  background-color: var(--sklearn-color-fitted-level-0);\n",
              "}\n",
              "\n",
              "/* on hover */\n",
              "#sk-container-id-1 div.sk-estimator:hover {\n",
              "  /* unfitted */\n",
              "  background-color: var(--sklearn-color-unfitted-level-2);\n",
              "}\n",
              "\n",
              "#sk-container-id-1 div.sk-estimator.fitted:hover {\n",
              "  /* fitted */\n",
              "  background-color: var(--sklearn-color-fitted-level-2);\n",
              "}\n",
              "\n",
              "/* Specification for estimator info (e.g. \"i\" and \"?\") */\n",
              "\n",
              "/* Common style for \"i\" and \"?\" */\n",
              "\n",
              ".sk-estimator-doc-link,\n",
              "a:link.sk-estimator-doc-link,\n",
              "a:visited.sk-estimator-doc-link {\n",
              "  float: right;\n",
              "  font-size: smaller;\n",
              "  line-height: 1em;\n",
              "  font-family: monospace;\n",
              "  background-color: var(--sklearn-color-background);\n",
              "  border-radius: 1em;\n",
              "  height: 1em;\n",
              "  width: 1em;\n",
              "  text-decoration: none !important;\n",
              "  margin-left: 1ex;\n",
              "  /* unfitted */\n",
              "  border: var(--sklearn-color-unfitted-level-1) 1pt solid;\n",
              "  color: var(--sklearn-color-unfitted-level-1);\n",
              "}\n",
              "\n",
              ".sk-estimator-doc-link.fitted,\n",
              "a:link.sk-estimator-doc-link.fitted,\n",
              "a:visited.sk-estimator-doc-link.fitted {\n",
              "  /* fitted */\n",
              "  border: var(--sklearn-color-fitted-level-1) 1pt solid;\n",
              "  color: var(--sklearn-color-fitted-level-1);\n",
              "}\n",
              "\n",
              "/* On hover */\n",
              "div.sk-estimator:hover .sk-estimator-doc-link:hover,\n",
              ".sk-estimator-doc-link:hover,\n",
              "div.sk-label-container:hover .sk-estimator-doc-link:hover,\n",
              ".sk-estimator-doc-link:hover {\n",
              "  /* unfitted */\n",
              "  background-color: var(--sklearn-color-unfitted-level-3);\n",
              "  color: var(--sklearn-color-background);\n",
              "  text-decoration: none;\n",
              "}\n",
              "\n",
              "div.sk-estimator.fitted:hover .sk-estimator-doc-link.fitted:hover,\n",
              ".sk-estimator-doc-link.fitted:hover,\n",
              "div.sk-label-container:hover .sk-estimator-doc-link.fitted:hover,\n",
              ".sk-estimator-doc-link.fitted:hover {\n",
              "  /* fitted */\n",
              "  background-color: var(--sklearn-color-fitted-level-3);\n",
              "  color: var(--sklearn-color-background);\n",
              "  text-decoration: none;\n",
              "}\n",
              "\n",
              "/* Span, style for the box shown on hovering the info icon */\n",
              ".sk-estimator-doc-link span {\n",
              "  display: none;\n",
              "  z-index: 9999;\n",
              "  position: relative;\n",
              "  font-weight: normal;\n",
              "  right: .2ex;\n",
              "  padding: .5ex;\n",
              "  margin: .5ex;\n",
              "  width: min-content;\n",
              "  min-width: 20ex;\n",
              "  max-width: 50ex;\n",
              "  color: var(--sklearn-color-text);\n",
              "  box-shadow: 2pt 2pt 4pt #999;\n",
              "  /* unfitted */\n",
              "  background: var(--sklearn-color-unfitted-level-0);\n",
              "  border: .5pt solid var(--sklearn-color-unfitted-level-3);\n",
              "}\n",
              "\n",
              ".sk-estimator-doc-link.fitted span {\n",
              "  /* fitted */\n",
              "  background: var(--sklearn-color-fitted-level-0);\n",
              "  border: var(--sklearn-color-fitted-level-3);\n",
              "}\n",
              "\n",
              ".sk-estimator-doc-link:hover span {\n",
              "  display: block;\n",
              "}\n",
              "\n",
              "/* \"?\"-specific style due to the `<a>` HTML tag */\n",
              "\n",
              "#sk-container-id-1 a.estimator_doc_link {\n",
              "  float: right;\n",
              "  font-size: 1rem;\n",
              "  line-height: 1em;\n",
              "  font-family: monospace;\n",
              "  background-color: var(--sklearn-color-background);\n",
              "  border-radius: 1rem;\n",
              "  height: 1rem;\n",
              "  width: 1rem;\n",
              "  text-decoration: none;\n",
              "  /* unfitted */\n",
              "  color: var(--sklearn-color-unfitted-level-1);\n",
              "  border: var(--sklearn-color-unfitted-level-1) 1pt solid;\n",
              "}\n",
              "\n",
              "#sk-container-id-1 a.estimator_doc_link.fitted {\n",
              "  /* fitted */\n",
              "  border: var(--sklearn-color-fitted-level-1) 1pt solid;\n",
              "  color: var(--sklearn-color-fitted-level-1);\n",
              "}\n",
              "\n",
              "/* On hover */\n",
              "#sk-container-id-1 a.estimator_doc_link:hover {\n",
              "  /* unfitted */\n",
              "  background-color: var(--sklearn-color-unfitted-level-3);\n",
              "  color: var(--sklearn-color-background);\n",
              "  text-decoration: none;\n",
              "}\n",
              "\n",
              "#sk-container-id-1 a.estimator_doc_link.fitted:hover {\n",
              "  /* fitted */\n",
              "  background-color: var(--sklearn-color-fitted-level-3);\n",
              "}\n",
              "</style><div id=\"sk-container-id-1\" class=\"sk-top-container\"><div class=\"sk-text-repr-fallback\"><pre>DecisionTreeClassifier(criterion=&#x27;entropy&#x27;, max_depth=3, random_state=80)</pre><b>In a Jupyter environment, please rerun this cell to show the HTML representation or trust the notebook. <br />On GitHub, the HTML representation is unable to render, please try loading this page with nbviewer.org.</b></div><div class=\"sk-container\" hidden><div class=\"sk-item\"><div class=\"sk-estimator fitted sk-toggleable\"><input class=\"sk-toggleable__control sk-hidden--visually\" id=\"sk-estimator-id-1\" type=\"checkbox\" checked><label for=\"sk-estimator-id-1\" class=\"sk-toggleable__label fitted sk-toggleable__label-arrow fitted\">&nbsp;&nbsp;DecisionTreeClassifier<a class=\"sk-estimator-doc-link fitted\" rel=\"noreferrer\" target=\"_blank\" href=\"https://scikit-learn.org/1.4/modules/generated/sklearn.tree.DecisionTreeClassifier.html\">?<span>Documentation for DecisionTreeClassifier</span></a><span class=\"sk-estimator-doc-link fitted\">i<span>Fitted</span></span></label><div class=\"sk-toggleable__content fitted\"><pre>DecisionTreeClassifier(criterion=&#x27;entropy&#x27;, max_depth=3, random_state=80)</pre></div> </div></div></div></div>"
            ],
            "text/plain": [
              "DecisionTreeClassifier(criterion='entropy', max_depth=3, random_state=80)"
            ]
          },
          "execution_count": 16,
          "metadata": {},
          "output_type": "execute_result"
        }
      ],
      "source": [
        "from sklearn.tree import DecisionTreeClassifier\n",
        "\n",
        "clf = DecisionTreeClassifier(criterion='entropy',max_depth=3,random_state=80)\n",
        "clf.fit(x_train,y_train)"
      ]
    },
    {
      "cell_type": "code",
      "execution_count": null,
      "id": "b18808ea-d72a-4047-b2d9-c96f0fcfa8ef",
      "metadata": {
        "id": "b18808ea-d72a-4047-b2d9-c96f0fcfa8ef",
        "outputId": "9eb6021a-8eef-4582-b92b-04072f24d8fb"
      },
      "outputs": [
        {
          "data": {
            "text/plain": [
              "OverTime_Yes            0.307039\n",
              "MonthlyIncome           0.225342\n",
              "YearsWithCurrManager    0.156404\n",
              "StockOptionLevel        0.146687\n",
              "Age                     0.101510\n",
              "DailyRate               0.063018\n",
              "EmployeeNumber          0.000000\n",
              "EmpID_RM526             0.000000\n",
              "EmpID_RM535             0.000000\n",
              "EmpID_RM534             0.000000\n",
              "dtype: float64"
            ]
          },
          "execution_count": 17,
          "metadata": {},
          "output_type": "execute_result"
        }
      ],
      "source": [
        "pd.Series(clf.feature_importances_,index = x_dummies.columns).sort_values(ascending=False).head(10)"
      ]
    },
    {
      "cell_type": "code",
      "execution_count": null,
      "id": "8a98bb94-22ab-4f72-a855-38d614be77cc",
      "metadata": {
        "id": "8a98bb94-22ab-4f72-a855-38d614be77cc"
      },
      "outputs": [],
      "source": [
        "y_pred = clf.predict(x_test)"
      ]
    },
    {
      "cell_type": "code",
      "execution_count": null,
      "id": "2e7977f1-41bf-4e9e-99bc-8c346e8373ee",
      "metadata": {
        "id": "2e7977f1-41bf-4e9e-99bc-8c346e8373ee",
        "outputId": "9bff8428-53ae-4791-9e00-60795b46ea7f"
      },
      "outputs": [
        {
          "name": "stdout",
          "output_type": "stream",
          "text": [
            "Confusion Matrix is:\n",
            "[[363  10]\n",
            " [ 60  11]]\n"
          ]
        }
      ],
      "source": [
        "cm=confusion_matrix(y_test,y_pred)\n",
        "print(\"Confusion Matrix is:\",cm, sep='\\n')"
      ]
    },
    {
      "cell_type": "code",
      "execution_count": null,
      "id": "1dc1bc40-6bf4-4204-bbad-e3b7763b8741",
      "metadata": {
        "id": "1dc1bc40-6bf4-4204-bbad-e3b7763b8741",
        "outputId": "e3a68979-21ab-4cca-bbc7-b2dd3ce257d7"
      },
      "outputs": [
        {
          "name": "stdout",
          "output_type": "stream",
          "text": [
            "accuracy(in %): 84.23423423423422\n"
          ]
        }
      ],
      "source": [
        "print(\"accuracy(in %):\",metrics.accuracy_score(y_test, y_pred)*100)"
      ]
    },
    {
      "cell_type": "code",
      "execution_count": null,
      "id": "faad2b38-3712-479c-81d7-dc4668be30f2",
      "metadata": {
        "id": "faad2b38-3712-479c-81d7-dc4668be30f2",
        "outputId": "d39abafc-1a1b-4135-d9b4-edb2c13019d5"
      },
      "outputs": [
        {
          "data": {
            "text/plain": [
              "0.2391304347826087"
            ]
          },
          "execution_count": 22,
          "metadata": {},
          "output_type": "execute_result"
        }
      ],
      "source": [
        "metrics.f1_score(y_test,y_pred)"
      ]
    },
    {
      "cell_type": "code",
      "execution_count": null,
      "id": "4bce027b-4c46-498e-b7d0-e895b489f589",
      "metadata": {
        "id": "4bce027b-4c46-498e-b7d0-e895b489f589"
      },
      "outputs": [],
      "source": [
        "def compute_auc(test,train_instance):\n",
        "    probs = train_instance.predict_proba(test)\n",
        "    prob_positive = probs[:,1]\n",
        "    fpr, tpr, threshold = roc_curve(y_test,prob_positive)\n",
        "    roc_auc = auc(fpr,tpr)\n",
        "    return roc_auc,fpr,tpr"
      ]
    },
    {
      "cell_type": "code",
      "execution_count": null,
      "id": "3ecf0e65-c53d-4f3f-a6ad-028c5414c0fd",
      "metadata": {
        "id": "3ecf0e65-c53d-4f3f-a6ad-028c5414c0fd",
        "outputId": "3d8c795c-8c9c-4aab-a51a-7cbfbbada84e"
      },
      "outputs": [
        {
          "data": {
            "text/plain": [
              "0.706169995846392"
            ]
          },
          "execution_count": 24,
          "metadata": {},
          "output_type": "execute_result"
        }
      ],
      "source": [
        "#Compute the area under the curve between fpr and tpr\n",
        "roc_auc,fpr,tpr = compute_auc(x_test,clf)\n",
        "roc_auc"
      ]
    },
    {
      "cell_type": "code",
      "execution_count": null,
      "id": "4fe95390-1492-4ff3-a1db-cdd6403e3c89",
      "metadata": {
        "id": "4fe95390-1492-4ff3-a1db-cdd6403e3c89"
      },
      "outputs": [],
      "source": [
        "def plot_ROC(roc,fpr,tpr):\n",
        "    plt.title(\"reciever Opereating characteristics\")\n",
        "    plt.plot(fpr,tpr,'red',label='AUC=%0.2f'%roc)\n",
        "    plt.legend(loc = 'lower right')\n",
        "    plt.plot([0,1],[0,1],color = 'darkblue',linestyle='--')\n",
        "    plt.ylabel('True Positive Rate')\n",
        "    plt.xlabel('false Positive Rate')\n",
        "    plt.show()\n"
      ]
    },
    {
      "cell_type": "code",
      "execution_count": null,
      "id": "30f20543-b5ac-416a-ab31-35cdddda9981",
      "metadata": {
        "id": "30f20543-b5ac-416a-ab31-35cdddda9981",
        "outputId": "f7800fca-3cf0-4e31-9746-ac7cc33a4552"
      },
      "outputs": [
        {
          "data": {
            "image/png": "[encoded data removed]",
            "text/plain": [
              "<Figure size 640x480 with 1 Axes>"
            ]
          },
          "metadata": {},
          "output_type": "display_data"
        }
      ],
      "source": [
        "plot_ROC(roc_auc,fpr,tpr)"
      ]
    },
    {
      "cell_type": "code",
      "execution_count": null,
      "id": "a92ac11b-7854-454c-bedd-a57979bfc2f2",
      "metadata": {
        "id": "a92ac11b-7854-454c-bedd-a57979bfc2f2"
      },
      "outputs": [],
      "source": [
        "from sklearn import tree\n",
        "import matplotlib.pyplot as plt"
      ]
    },
    {
      "cell_type": "code",
      "execution_count": null,
      "id": "7478055e-712b-44f8-98ec-15489503ce7d",
      "metadata": {
        "id": "7478055e-712b-44f8-98ec-15489503ce7d"
      },
      "outputs": [],
      "source": [
        "cols = x_dummies.columns"
      ]
    },
    {
      "cell_type": "code",
      "execution_count": null,
      "id": "22249a9e-2d45-4d24-a0ab-c1c74a244e6c",
      "metadata": {
        "id": "22249a9e-2d45-4d24-a0ab-c1c74a244e6c",
        "outputId": "c941871c-dd62-4fdd-9514-728c074436ca"
      },
      "outputs": [
        {
          "data": {
            "image/png": "[encoded data removed]",
            "text/plain": [
              "<Figure size 1500x800 with 1 Axes>"
            ]
          },
          "metadata": {},
          "output_type": "display_data"
        }
      ],
      "source": [
        "plt.figure(figsize=(15,8))\n",
        "tree.plot_tree(clf, feature_names=cols, filled=True,precision=2,\n",
        "              proportion=True,rounded=True)\n",
        "plt.show()"
      ]
    },
    {
      "cell_type": "code",
      "execution_count": null,
      "id": "53a17129-2cd7-4214-b4ad-a60aa590fc84",
      "metadata": {
        "id": "53a17129-2cd7-4214-b4ad-a60aa590fc84"
      },
      "outputs": [],
      "source": []
    }
  ],
  "metadata": {
    "kernelspec": {
      "display_name": "Python 3 (ipykernel)",
      "language": "python",
      "name": "python3"
    },
    "language_info": {
      "codemirror_mode": {
        "name": "ipython",
        "version": 3
      },
      "file_extension": ".py",
      "mimetype": "text/x-python",
      "name": "python",
      "nbconvert_exporter": "python",
      "pygments_lexer": "ipython3",
      "version": "3.12.2"
    },
    "colab": {
      "provenance": []
    }
  },
  "nbformat": 4,
  "nbformat_minor": 5
}